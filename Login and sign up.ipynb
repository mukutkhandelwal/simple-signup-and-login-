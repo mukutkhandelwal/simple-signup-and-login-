{
 "cells": [
  {
   "cell_type": "code",
   "execution_count": 7,
   "metadata": {},
   "outputs": [],
   "source": [
    "import re\n",
    "import sys\n",
    "def login(a,b):\n",
    "    emailcheck = re.compile('[a-zA-Z0-9]{1,}[^\\w]*@[a-zA-Z0-9]{1,}\\\\.[a-zA-Z]')\n",
    "    passwordcheck = re.compile('.{8,}')\n",
    "    mat = re.search(emailcheck,a)\n",
    "    pswd = re.search(passwordcheck,b)\n",
    "    if mat!=None and pswd!=None:\n",
    "        lis = []\n",
    "        with open('signup.txt','r') as writing:\n",
    "            for line in writing:\n",
    "                lis.append(line.strip('\\n'))\n",
    "        if a in lis or b in lis:\n",
    "            print('Welcome !')\n",
    "            with open('login.txt','a') as writing:\n",
    "                writing.write('\\nlogin credentials \\n')\n",
    "                writing.write('Login : %s'%a)\n",
    "                writing.write('\\npasscode : %s '%b)\n",
    "                sys.exit(0)\n",
    "        print('please sign up first before loging in')\n",
    "    elif mat == None or pswd == None:\n",
    "        print('Enter password or username does not match up!!')\n",
    "    \n"
   ]
  },
  {
   "cell_type": "code",
   "execution_count": 8,
   "metadata": {},
   "outputs": [],
   "source": [
    "def signup(a,b,c):\n",
    "    emailcheck = re.compile('[a-zA-Z0-9]{1,}[^\\w]*@[a-zA-Z0-9]{1,}\\\\.[a-zA-Z]')\n",
    "    passwordcheck = re.compile('.{8,}')\n",
    "    mat = re.search(emailcheck,a)\n",
    "    pswd = re.search(passwordcheck,b)\n",
    "    if mat!=None and pswd!=None:\n",
    "        if b==c:\n",
    "            with open('signup.txt','a') as writing:\n",
    "                writing.write('\\n credentials \\n')\n",
    "                writing.write('email :\\n')\n",
    "                writing.write(a)                \n",
    "                writing.write('\\npasscode :\\n')\n",
    "                writing.write(b)                                \n",
    "            print('u are sign in')\n",
    "        elif b!=c:\n",
    "            print('1')\n",
    "            print('Enter password  does not match up!!')\n",
    "            sys.exit(0)\n",
    "    elif mat == None or pswd == None:\n",
    "        print('Enter password or username is wrong!!')"
   ]
  },
  {
   "cell_type": "code",
   "execution_count": null,
   "metadata": {},
   "outputs": [],
   "source": [
    "while True:\n",
    "    choice = int(input('enter 1 for login and 2 for sign up : '))\n",
    "    if choice == 1:\n",
    "        a = input('enter the login id : ')\n",
    "        b = input('enter the password  : ')\n",
    "        login(a,b)\n",
    "    elif choice == 2:\n",
    "        a = input('enter the login id : ')\n",
    "        b = input('enter the password  : ')\n",
    "        c = input('enter the password  : ')\n",
    "        signup(a,b,c)\n",
    "    else:\n",
    "        break"
   ]
  },
  {
   "cell_type": "code",
   "execution_count": null,
   "metadata": {},
   "outputs": [],
   "source": []
  },
  {
   "cell_type": "code",
   "execution_count": null,
   "metadata": {},
   "outputs": [],
   "source": []
  }
 ],
 "metadata": {
  "kernelspec": {
   "display_name": "Python 3",
   "language": "python",
   "name": "python3"
  },
  "language_info": {
   "codemirror_mode": {
    "name": "ipython",
    "version": 3
   },
   "file_extension": ".py",
   "mimetype": "text/x-python",
   "name": "python",
   "nbconvert_exporter": "python",
   "pygments_lexer": "ipython3",
   "version": "3.7.5"
  }
 },
 "nbformat": 4,
 "nbformat_minor": 2
}
